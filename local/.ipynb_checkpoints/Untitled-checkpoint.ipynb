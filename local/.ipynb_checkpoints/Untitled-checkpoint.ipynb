{
 "cells": [
  {
   "cell_type": "code",
   "execution_count": 2,
   "id": "04ab78a5",
   "metadata": {
    "scrolled": true
   },
   "outputs": [
    {
     "name": "stdout",
     "output_type": "stream",
     "text": [
      "Collecting selenium\n",
      "  Downloading selenium-4.8.3-py3-none-any.whl (6.5 MB)\n",
      "     ---------------------------------------- 0.0/6.5 MB ? eta -:--:--\n",
      "     - -------------------------------------- 0.3/6.5 MB 5.7 MB/s eta 0:00:02\n",
      "     -- ------------------------------------- 0.5/6.5 MB 4.7 MB/s eta 0:00:02\n",
      "     ----- ---------------------------------- 0.9/6.5 MB 6.2 MB/s eta 0:00:01\n",
      "     ------- -------------------------------- 1.2/6.5 MB 6.5 MB/s eta 0:00:01\n",
      "     ---------- ----------------------------- 1.8/6.5 MB 7.5 MB/s eta 0:00:01\n",
      "     ----------- ---------------------------- 1.9/6.5 MB 6.3 MB/s eta 0:00:01\n",
      "     -------------- ------------------------- 2.4/6.5 MB 7.3 MB/s eta 0:00:01\n",
      "     ----------------- ---------------------- 2.9/6.5 MB 7.8 MB/s eta 0:00:01\n",
      "     ------------------ --------------------- 3.1/6.5 MB 7.3 MB/s eta 0:00:01\n",
      "     -------------------- ------------------- 3.3/6.5 MB 7.1 MB/s eta 0:00:01\n",
      "     --------------------- ------------------ 3.5/6.5 MB 6.7 MB/s eta 0:00:01\n",
      "     ---------------------- ----------------- 3.7/6.5 MB 6.7 MB/s eta 0:00:01\n",
      "     ----------------------- ---------------- 3.8/6.5 MB 6.3 MB/s eta 0:00:01\n",
      "     ----------------------- ---------------- 3.9/6.5 MB 6.1 MB/s eta 0:00:01\n",
      "     ------------------------- -------------- 4.1/6.5 MB 5.8 MB/s eta 0:00:01\n",
      "     -------------------------- ------------- 4.3/6.5 MB 5.8 MB/s eta 0:00:01\n",
      "     -------------------------- ------------- 4.4/6.5 MB 5.5 MB/s eta 0:00:01\n",
      "     --------------------------- ------------ 4.5/6.5 MB 5.5 MB/s eta 0:00:01\n",
      "     ----------------------------- ---------- 4.8/6.5 MB 5.3 MB/s eta 0:00:01\n",
      "     ----------------------------- ---------- 4.9/6.5 MB 5.2 MB/s eta 0:00:01\n",
      "     ------------------------------- -------- 5.2/6.5 MB 5.2 MB/s eta 0:00:01\n",
      "     --------------------------------- ------ 5.4/6.5 MB 5.3 MB/s eta 0:00:01\n",
      "     ------------------------------------ --- 5.9/6.5 MB 5.5 MB/s eta 0:00:01\n",
      "     -------------------------------------- - 6.3/6.5 MB 5.6 MB/s eta 0:00:01\n",
      "     ---------------------------------------  6.5/6.5 MB 5.7 MB/s eta 0:00:01\n",
      "     ---------------------------------------- 6.5/6.5 MB 5.5 MB/s eta 0:00:00\n",
      "Requirement already satisfied: urllib3[socks]~=1.26 in c:\\python311\\lib\\site-packages (from selenium) (1.26.13)\n",
      "Collecting trio~=0.17\n",
      "  Downloading trio-0.22.0-py3-none-any.whl (384 kB)\n",
      "     ---------------------------------------- 0.0/384.9 kB ? eta -:--:--\n",
      "     ------------------------------------  378.9/384.9 kB 11.5 MB/s eta 0:00:01\n",
      "     -------------------------------------- 384.9/384.9 kB 5.9 MB/s eta 0:00:00\n",
      "Collecting trio-websocket~=0.9\n",
      "  Downloading trio_websocket-0.10.2-py3-none-any.whl (17 kB)\n",
      "Requirement already satisfied: certifi>=2021.10.8 in c:\\python311\\lib\\site-packages (from selenium) (2022.12.7)\n",
      "Requirement already satisfied: attrs>=19.2.0 in c:\\python311\\lib\\site-packages (from trio~=0.17->selenium) (22.2.0)\n",
      "Collecting sortedcontainers\n",
      "  Downloading sortedcontainers-2.4.0-py2.py3-none-any.whl (29 kB)\n",
      "Collecting async-generator>=1.9\n",
      "  Downloading async_generator-1.10-py3-none-any.whl (18 kB)\n",
      "Requirement already satisfied: idna in c:\\python311\\lib\\site-packages (from trio~=0.17->selenium) (3.4)\n",
      "Collecting outcome\n",
      "  Downloading outcome-1.2.0-py2.py3-none-any.whl (9.7 kB)\n",
      "Requirement already satisfied: sniffio in c:\\python311\\lib\\site-packages (from trio~=0.17->selenium) (1.3.0)\n",
      "Requirement already satisfied: cffi>=1.14 in c:\\python311\\lib\\site-packages (from trio~=0.17->selenium) (1.15.1)\n",
      "Collecting exceptiongroup\n",
      "  Downloading exceptiongroup-1.1.1-py3-none-any.whl (14 kB)\n",
      "Collecting wsproto>=0.14\n",
      "  Downloading wsproto-1.2.0-py3-none-any.whl (24 kB)\n",
      "Collecting PySocks!=1.5.7,<2.0,>=1.5.6\n",
      "  Downloading PySocks-1.7.1-py3-none-any.whl (16 kB)\n",
      "Requirement already satisfied: pycparser in c:\\python311\\lib\\site-packages (from cffi>=1.14->trio~=0.17->selenium) (2.21)\n",
      "Collecting h11<1,>=0.9.0\n",
      "  Downloading h11-0.14.0-py3-none-any.whl (58 kB)\n",
      "     ---------------------------------------- 0.0/58.3 kB ? eta -:--:--\n",
      "     ---------------------------------------- 58.3/58.3 kB 3.0 MB/s eta 0:00:00\n",
      "Installing collected packages: sortedcontainers, PySocks, outcome, h11, exceptiongroup, async-generator, wsproto, trio, trio-websocket, selenium\n",
      "Successfully installed PySocks-1.7.1 async-generator-1.10 exceptiongroup-1.1.1 h11-0.14.0 outcome-1.2.0 selenium-4.8.3 sortedcontainers-2.4.0 trio-0.22.0 trio-websocket-0.10.2 wsproto-1.2.0\n"
     ]
    },
    {
     "name": "stderr",
     "output_type": "stream",
     "text": [
      "\n",
      "[notice] A new release of pip is available: 23.0 -> 23.0.1\n",
      "[notice] To update, run: python.exe -m pip install --upgrade pip\n"
     ]
    }
   ],
   "source": [
    "!pip install selenium"
   ]
  },
  {
   "cell_type": "code",
   "execution_count": 100,
   "id": "99950e65",
   "metadata": {},
   "outputs": [
    {
     "name": "stdout",
     "output_type": "stream",
     "text": [
      "Collecting PyPDF2"
     ]
    },
    {
     "name": "stderr",
     "output_type": "stream",
     "text": [
      "\n",
      "[notice] A new release of pip is available: 23.0 -> 23.0.1\n",
      "[notice] To update, run: python.exe -m pip install --upgrade pip\n"
     ]
    },
    {
     "name": "stdout",
     "output_type": "stream",
     "text": [
      "\n",
      "  Downloading pypdf2-3.0.1-py3-none-any.whl (232 kB)\n",
      "     ---------------------------------------- 0.0/232.6 kB ? eta -:--:--\n",
      "     ----------------------------------- - 225.3/232.6 kB 13.4 MB/s eta 0:00:01\n",
      "     -------------------------------------- 232.6/232.6 kB 4.7 MB/s eta 0:00:00\n",
      "Installing collected packages: PyPDF2\n",
      "Successfully installed PyPDF2-3.0.1\n"
     ]
    }
   ],
   "source": [
    "!pip install PyPDF2"
   ]
  },
  {
   "cell_type": "code",
   "execution_count": 143,
   "id": "dbd0bfe9",
   "metadata": {
    "scrolled": true
   },
   "outputs": [
    {
     "name": "stdout",
     "output_type": "stream",
     "text": [
      "ID : kjjs@mz.co.kr\n",
      "Password:········\n"
     ]
    },
    {
     "name": "stderr",
     "output_type": "stream",
     "text": [
      "C:\\Users\\MZC01-KJJS\\AppData\\Local\\Temp\\ipykernel_34388\\2246198482.py:88: DeprecationWarning: executable_path has been deprecated, please pass in a Service object\n",
      "  driver = webdriver.Chrome(executable_path='chromedriver.exe',options=options)\n"
     ]
    },
    {
     "ename": "TimeoutException",
     "evalue": "Message: \nStacktrace:\nBacktrace:\n\t(No symbol) [0x010EDCE3]\n\t(No symbol) [0x010839D1]\n\t(No symbol) [0x00F94DA8]\n\t(No symbol) [0x00FC019F]\n\t(No symbol) [0x00FC03AB]\n\t(No symbol) [0x00FEEE62]\n\t(No symbol) [0x00FDAF14]\n\t(No symbol) [0x00FED57C]\n\t(No symbol) [0x00FDACC6]\n\t(No symbol) [0x00FB6F68]\n\t(No symbol) [0x00FB80CD]\n\tGetHandleVerifier [0x01363832+2506274]\n\tGetHandleVerifier [0x01399794+2727300]\n\tGetHandleVerifier [0x0139E36C+2746716]\n\tGetHandleVerifier [0x01196690+617600]\n\t(No symbol) [0x0108C712]\n\t(No symbol) [0x01091FF8]\n\t(No symbol) [0x010920DB]\n\t(No symbol) [0x0109C63B]\n\tBaseThreadInitThunk [0x76077D69+25]\n\tRtlInitializeExceptionChain [0x771DB74B+107]\n\tRtlClearBits [0x771DB6CF+191]\n",
     "output_type": "error",
     "traceback": [
      "\u001b[1;31m---------------------------------------------------------------------------\u001b[0m",
      "\u001b[1;31mTimeoutException\u001b[0m                          Traceback (most recent call last)",
      "Cell \u001b[1;32mIn[143], line 96\u001b[0m\n\u001b[0;32m     94\u001b[0m d1_url\u001b[38;5;241m=\u001b[39m\u001b[38;5;124m\"\u001b[39m\u001b[38;5;124mhttps://us-east-1.quicksight.aws.amazon.com/sn/dashboards/a7adfe68-ab7e-45f4-a988-94bc41cf9c53/views/035c3ebe-9250-4dac-8cca-efdd94c3df10\u001b[39m\u001b[38;5;124m\"\u001b[39m\n\u001b[0;32m     95\u001b[0m page_d1\u001b[38;5;241m=\u001b[39m\u001b[38;5;241m18\u001b[39m\n\u001b[1;32m---> 96\u001b[0m driver \u001b[38;5;241m=\u001b[39m \u001b[43mquicksight_download\u001b[49m\u001b[43m(\u001b[49m\u001b[43mdriver\u001b[49m\u001b[43m,\u001b[49m\u001b[43mpage_d1\u001b[49m\u001b[43m,\u001b[49m\u001b[43md1_url\u001b[49m\u001b[43m)\u001b[49m\n\u001b[0;32m     97\u001b[0m sleep(\u001b[38;5;241m30\u001b[39m)\n\u001b[0;32m     99\u001b[0m \u001b[38;5;66;03m##Dashboard 1_2 Page Download   \u001b[39;00m\n",
      "Cell \u001b[1;32mIn[143], line 57\u001b[0m, in \u001b[0;36mquicksight_download\u001b[1;34m(driver, total_page, url)\u001b[0m\n\u001b[0;32m     54\u001b[0m \u001b[38;5;28;01mdef\u001b[39;00m \u001b[38;5;21mquicksight_download\u001b[39m(driver,total_page,url):\n\u001b[0;32m     56\u001b[0m     driver\u001b[38;5;241m.\u001b[39mget(url)\n\u001b[1;32m---> 57\u001b[0m     \u001b[43mWebDriverWait\u001b[49m\u001b[43m(\u001b[49m\u001b[43mdriver\u001b[49m\u001b[43m,\u001b[49m\u001b[43m \u001b[49m\u001b[38;5;241;43m30\u001b[39;49m\u001b[43m)\u001b[49m\u001b[38;5;241;43m.\u001b[39;49m\u001b[43muntil\u001b[49m\u001b[43m(\u001b[49m\u001b[43mEC\u001b[49m\u001b[38;5;241;43m.\u001b[39;49m\u001b[43mpresence_of_element_located\u001b[49m\u001b[43m(\u001b[49m\u001b[43m(\u001b[49m\u001b[43mBy\u001b[49m\u001b[38;5;241;43m.\u001b[39;49m\u001b[43mXPATH\u001b[49m\u001b[43m,\u001b[49m\u001b[43m \u001b[49m\u001b[38;5;124;43m'\u001b[39;49m\u001b[38;5;124;43m//button[@aria-label=\u001b[39;49m\u001b[38;5;124;43m\"\u001b[39;49m\u001b[38;5;124;43m내보내기\u001b[39;49m\u001b[38;5;124;43m\"\u001b[39;49m\u001b[38;5;124;43m]\u001b[39;49m\u001b[38;5;124;43m'\u001b[39;49m\u001b[43m)\u001b[49m\u001b[43m)\u001b[49m\u001b[43m)\u001b[49m\n\u001b[0;32m     59\u001b[0m     done_count\u001b[38;5;241m=\u001b[39m\u001b[38;5;241m0\u001b[39m\n\u001b[0;32m     60\u001b[0m     driver\u001b[38;5;241m.\u001b[39mfind_element(By\u001b[38;5;241m.\u001b[39mXPATH, \u001b[38;5;124m'\u001b[39m\u001b[38;5;124m//button[@aria-label=\u001b[39m\u001b[38;5;124m\"\u001b[39m\u001b[38;5;124m내보내기\u001b[39m\u001b[38;5;124m\"\u001b[39m\u001b[38;5;124m]\u001b[39m\u001b[38;5;124m'\u001b[39m)\u001b[38;5;241m.\u001b[39mclick()\n",
      "File \u001b[1;32mC:\\Python311\\Lib\\site-packages\\selenium\\webdriver\\support\\wait.py:95\u001b[0m, in \u001b[0;36mWebDriverWait.until\u001b[1;34m(self, method, message)\u001b[0m\n\u001b[0;32m     93\u001b[0m     \u001b[38;5;28;01mif\u001b[39;00m time\u001b[38;5;241m.\u001b[39mmonotonic() \u001b[38;5;241m>\u001b[39m end_time:\n\u001b[0;32m     94\u001b[0m         \u001b[38;5;28;01mbreak\u001b[39;00m\n\u001b[1;32m---> 95\u001b[0m \u001b[38;5;28;01mraise\u001b[39;00m TimeoutException(message, screen, stacktrace)\n",
      "\u001b[1;31mTimeoutException\u001b[0m: Message: \nStacktrace:\nBacktrace:\n\t(No symbol) [0x010EDCE3]\n\t(No symbol) [0x010839D1]\n\t(No symbol) [0x00F94DA8]\n\t(No symbol) [0x00FC019F]\n\t(No symbol) [0x00FC03AB]\n\t(No symbol) [0x00FEEE62]\n\t(No symbol) [0x00FDAF14]\n\t(No symbol) [0x00FED57C]\n\t(No symbol) [0x00FDACC6]\n\t(No symbol) [0x00FB6F68]\n\t(No symbol) [0x00FB80CD]\n\tGetHandleVerifier [0x01363832+2506274]\n\tGetHandleVerifier [0x01399794+2727300]\n\tGetHandleVerifier [0x0139E36C+2746716]\n\tGetHandleVerifier [0x01196690+617600]\n\t(No symbol) [0x0108C712]\n\t(No symbol) [0x01091FF8]\n\t(No symbol) [0x010920DB]\n\t(No symbol) [0x0109C63B]\n\tBaseThreadInitThunk [0x76077D69+25]\n\tRtlInitializeExceptionChain [0x771DB74B+107]\n\tRtlClearBits [0x771DB6CF+191]\n"
     ]
    }
   ],
   "source": [
    "from time import sleep\n",
    "from selenium import webdriver\n",
    "from selenium.webdriver.common.by import By\n",
    "from selenium.webdriver.support.wait import WebDriverWait\n",
    "from selenium.webdriver.support import expected_conditions as EC\n",
    "import getpass\n",
    "\n",
    "import os\n",
    "from glob import glob\n",
    "from PyPDF2 import PdfMerger\n",
    "\n",
    "result_dir=\"C:/Data_Files\"\n",
    "\n",
    "options = webdriver.ChromeOptions()\n",
    "options.add_argument(\"--start-maximized\")\n",
    "options.add_experimental_option(\"prefs\", {\n",
    "  \"download.default_directory\": r\"C:\\Data_Files\"\n",
    "  })\n",
    "\n",
    "#dashboard_url = input(\"url : \")\n",
    "quicksight_id = input(\"ID : \")\n",
    "pswd = getpass.getpass('Password:')\n",
    "\n",
    "\n",
    "\n",
    "page_str=\"https://us-east-1.quicksight.aws.amazon.com/sn/dashboards/a7adfe68-ab7e-45f4-a988-94bc41cf9c53/views/035c3ebe-9250-4dac-8cca-efdd94c3df10\"\n",
    "\n",
    "## Clean dir\n",
    "filelist = glob(os.path.join(result_dir, \"*.pdf\"))\n",
    "for f in filelist:\n",
    "    os.chmod(f, 0o777)\n",
    "    os.remove(f)\n",
    "\n",
    "## function download\n",
    "def quicksigt_login(driver,qid,qpwd):\n",
    "    driver.get(\"https://us-east-1.quicksight.aws.amazon.com/sn/dashboards/a7adfe68-ab7e-45f4-a988-94bc41cf9c53/views/035c3ebe-9250-4dac-8cca-efdd94c3df10\")\n",
    "    driver.implicitly_wait(3)\n",
    "\n",
    "    driver.find_element(By.ID,'account-name-input').send_keys('volkswagenkorea')\n",
    "    driver.find_element(By.ID,'account-name-submit-button').click()\n",
    "    \n",
    "    WebDriverWait(driver, 30).until(EC.presence_of_element_located((By.ID, \"username-input\")))\n",
    "    driver.find_element(By.ID,'username-input').send_keys(qid)\n",
    "    driver.find_element(By.ID,'username-submit-button').click()\n",
    "\n",
    "    WebDriverWait(driver, 30).until(EC.presence_of_element_located((By.ID, \"awsui-input-0\")))\n",
    "\n",
    "    driver.find_element(By.ID,'awsui-input-0').send_keys(qpwd)\n",
    "    driver.find_element(By.ID,'password-submit-button').click()\n",
    "\n",
    "    WebDriverWait(driver, 30).until(EC.presence_of_element_located((By.XPATH, '//button[@aria-label=\"내보내기\"]')))\n",
    "    return driver\n",
    "\n",
    "def quicksight_download(driver,total_page,url):\n",
    "    \n",
    "    driver.get(url)\n",
    "    WebDriverWait(driver, 30).until(EC.presence_of_element_located((By.XPATH, '//button[@aria-label=\"내보내기\"]')))\n",
    "    \n",
    "    done_count=0\n",
    "    driver.find_element(By.XPATH, '//button[@aria-label=\"내보내기\"]').click()\n",
    "    driver.find_element(By.XPATH, '//li[@data-automation-id=\"navbar_export_pane_toggle_open\"]').click()\n",
    "    sleep(1)\n",
    "    for i in range(1,total_page+1):\n",
    "        driver.find_element(By.XPATH,f'//*[@id=\"application-content\"]/div/div/div[2]/div[1]/div[2]/div/div[1]/div/div/div/div[{i}]').click()\n",
    "        sleep(3)\n",
    "        driver.find_element(By.XPATH, '//button[@aria-label=\"내보내기\"]').click()\n",
    "        driver.find_element(By.XPATH, '//li[@title=\"PDF 생성\"]').click()\n",
    "        sleep(1)\n",
    "\n",
    "    sleep(30)\n",
    "\n",
    "    while done_count<total_page:\n",
    "        try:\n",
    "            driver.find_element(By.ID,'alertCloseButton').click()\n",
    "            done_count+=1\n",
    "        except:\n",
    "               pass\n",
    "        finally:\n",
    "            sleep(1)\n",
    "            print(f\"Wait for done! ({done_count}/{total_page}) : {round((done_count/total_page)*100,2)}%\")\n",
    "\n",
    "    for i in range(1,total_page+1):\n",
    "        driver.find_element(By.XPATH, f'//*[@id=\"vega-right-pane\"]/div/div/div/div[{i}]/div[2]/p[2]/div').click()\n",
    "    \n",
    "    return driver\n",
    "\n",
    "#login\n",
    "driver = webdriver.Chrome(executable_path='chromedriver.exe',options=options)\n",
    "driver.implicitly_wait(3)\n",
    "driver = quicksigt_login(driver,quicksight_id,pswd)\n",
    "\n",
    "##Dashboard 1_1 Page Download   \n",
    "\n",
    "d1_url=\"https://us-east-1.quicksight.aws.amazon.com/sn/dashboards/a7adfe68-ab7e-45f4-a988-94bc41cf9c53/views/035c3ebe-9250-4dac-8cca-efdd94c3df10\"\n",
    "page_d1=18\n",
    "driver = quicksight_download(driver,page_d1,d1_url)\n",
    "sleep(30)\n",
    "\n",
    "##Dashboard 1_2 Page Download   \n",
    "\n",
    "d2_url=\"https://us-east-1.quicksight.aws.amazon.com/sn/dashboards/7b03e7cf-3485-4610-ab1f-b4a3a7c6ca1e/views/a07f7b18-7a72-4546-860a-1b395ad9a85f\"\n",
    "page_d2= 7\n",
    "driver = quicksight_download(driver,page_d2,d2_url)\n",
    "sleep(30)\n",
    "\n",
    "##Cover Page Download   \n",
    "\n",
    "cover_url='https://us-east-1.quicksight.aws.amazon.com/sn/dashboards/09acf2c8-158d-47b2-b63a-8cbfd183ad1e/views/60e4100a-7bd1-4890-b56c-b430890bf3ab'\n",
    "page_c= 8\n",
    "driver = quicksight_download(driver,page_c,cover_url)\n",
    "sleep(30)\n",
    "\n",
    "\n",
    "\n",
    "\n",
    "\n",
    "## Merge pdf \n",
    "merge_pdf_name = input(\"pdf name :\")\n",
    "\n",
    "merger = PdfMerger()\n",
    "\n",
    "tot_page=page_d1+page_d2+page_c\n",
    "\n",
    "for i in range(1,merge_page+1):\n",
    "    merger.append(glob(f'{result_dir}/{i}p*'+'.pdf')[0])\n",
    "\n",
    "merger.write(f\"{result_dir}/merged/\"+merge_pdf_name + \".pdf\")\n",
    "merger.close()\n",
    "\n",
    "driver.close()\n",
    "\n",
    "print(\"Done!\")"
   ]
  },
  {
   "cell_type": "code",
   "execution_count": 136,
   "id": "cce0abee",
   "metadata": {},
   "outputs": [
    {
     "ename": "TypeError",
     "evalue": "'module' object is not callable",
     "output_type": "error",
     "traceback": [
      "\u001b[1;31m---------------------------------------------------------------------------\u001b[0m",
      "\u001b[1;31mTypeError\u001b[0m                                 Traceback (most recent call last)",
      "Cell \u001b[1;32mIn[136], line 2\u001b[0m\n\u001b[0;32m      1\u001b[0m \u001b[38;5;28;01mimport\u001b[39;00m \u001b[38;5;21;01mos\u001b[39;00m\u001b[38;5;241m,\u001b[39m \u001b[38;5;21;01mglob\u001b[39;00m\n\u001b[1;32m----> 2\u001b[0m \u001b[38;5;28mlen\u001b[39m(\u001b[43mglob\u001b[49m\u001b[43m(\u001b[49m\u001b[38;5;124;43mf\u001b[39;49m\u001b[38;5;124;43m'\u001b[39;49m\u001b[38;5;132;43;01m{\u001b[39;49;00m\u001b[43mresult_dir\u001b[49m\u001b[38;5;132;43;01m}\u001b[39;49;00m\u001b[38;5;124;43m/p*\u001b[39;49m\u001b[38;5;124;43m'\u001b[39;49m\u001b[38;5;241;43m+\u001b[39;49m\u001b[38;5;124;43m'\u001b[39;49m\u001b[38;5;124;43m.pdf\u001b[39;49m\u001b[38;5;124;43m'\u001b[39;49m\u001b[43m)\u001b[49m)\n",
      "\u001b[1;31mTypeError\u001b[0m: 'module' object is not callable"
     ]
    }
   ],
   "source": [
    "import os, glob\n",
    "len(glob(f'{result_dir}/p*'+'.pdf'))\n"
   ]
  },
  {
   "cell_type": "code",
   "execution_count": 123,
   "id": "fd654d6e",
   "metadata": {},
   "outputs": [],
   "source": [
    "result_dir=\"C:/Data_Files\"\n"
   ]
  },
  {
   "cell_type": "code",
   "execution_count": 128,
   "id": "3cc7a404",
   "metadata": {},
   "outputs": [
    {
     "data": {
      "text/plain": [
       "['C:/Data_Files\\\\merged']"
      ]
     },
     "execution_count": 128,
     "metadata": {},
     "output_type": "execute_result"
    }
   ],
   "source": [
    "filelist"
   ]
  },
  {
   "cell_type": "code",
   "execution_count": null,
   "id": "83675c7c",
   "metadata": {},
   "outputs": [],
   "source": []
  }
 ],
 "metadata": {
  "kernelspec": {
   "display_name": "Python 3 (ipykernel)",
   "language": "python",
   "name": "python3"
  },
  "language_info": {
   "codemirror_mode": {
    "name": "ipython",
    "version": 3
   },
   "file_extension": ".py",
   "mimetype": "text/x-python",
   "name": "python",
   "nbconvert_exporter": "python",
   "pygments_lexer": "ipython3",
   "version": "3.11.0"
  }
 },
 "nbformat": 4,
 "nbformat_minor": 5
}
