{
 "cells": [
  {
   "cell_type": "code",
   "execution_count": 1,
   "id": "3b8189f7",
   "metadata": {
    "scrolled": true
   },
   "outputs": [
    {
     "name": "stdout",
     "output_type": "stream",
     "text": [
      "Defaulting to user installation because normal site-packages is not writeable\n",
      "Collecting selenium==4.12.0\n",
      "  Using cached selenium-4.12.0-py3-none-any.whl (9.4 MB)\n",
      "Requirement already satisfied: certifi>=2021.10.8 in c:\\programdata\\anaconda3\\lib\\site-packages (from selenium==4.12.0) (2022.12.7)\n",
      "Collecting trio-websocket~=0.9\n",
      "  Downloading trio_websocket-0.11.1-py3-none-any.whl (17 kB)\n",
      "Collecting trio~=0.17\n",
      "  Downloading trio-0.24.0-py3-none-any.whl (460 kB)\n",
      "     -------------------------------------- 460.2/460.2 kB 3.2 MB/s eta 0:00:00\n",
      "Requirement already satisfied: urllib3[socks]<3,>=1.26 in c:\\programdata\\anaconda3\\lib\\site-packages (from selenium==4.12.0) (1.26.14)\n",
      "Requirement already satisfied: attrs>=20.1.0 in c:\\programdata\\anaconda3\\lib\\site-packages (from trio~=0.17->selenium==4.12.0) (22.1.0)\n",
      "Requirement already satisfied: cffi>=1.14 in c:\\programdata\\anaconda3\\lib\\site-packages (from trio~=0.17->selenium==4.12.0) (1.15.1)\n",
      "Collecting exceptiongroup\n",
      "  Downloading exceptiongroup-1.2.0-py3-none-any.whl (16 kB)\n",
      "Collecting sniffio>=1.3.0\n",
      "  Using cached sniffio-1.3.0-py3-none-any.whl (10 kB)\n",
      "Requirement already satisfied: idna in c:\\programdata\\anaconda3\\lib\\site-packages (from trio~=0.17->selenium==4.12.0) (3.4)\n",
      "Requirement already satisfied: sortedcontainers in c:\\programdata\\anaconda3\\lib\\site-packages (from trio~=0.17->selenium==4.12.0) (2.4.0)\n",
      "Collecting outcome\n",
      "  Downloading outcome-1.3.0.post0-py2.py3-none-any.whl (10 kB)\n",
      "Collecting wsproto>=0.14\n",
      "  Using cached wsproto-1.2.0-py3-none-any.whl (24 kB)\n",
      "Requirement already satisfied: PySocks!=1.5.7,<2.0,>=1.5.6 in c:\\programdata\\anaconda3\\lib\\site-packages (from urllib3[socks]<3,>=1.26->selenium==4.12.0) (1.7.1)\n",
      "Requirement already satisfied: pycparser in c:\\programdata\\anaconda3\\lib\\site-packages (from cffi>=1.14->trio~=0.17->selenium==4.12.0) (2.21)\n",
      "Collecting h11<1,>=0.9.0\n",
      "  Using cached h11-0.14.0-py3-none-any.whl (58 kB)\n",
      "Installing collected packages: sniffio, outcome, h11, exceptiongroup, wsproto, trio, trio-websocket, selenium\n",
      "Successfully installed exceptiongroup-1.2.0 h11-0.14.0 outcome-1.3.0.post0 selenium-4.12.0 sniffio-1.3.0 trio-0.24.0 trio-websocket-0.11.1 wsproto-1.2.0\n"
     ]
    }
   ],
   "source": [
    "!pip install selenium==4.12.0"
   ]
  },
  {
   "cell_type": "code",
   "execution_count": 2,
   "id": "b6115fa5",
   "metadata": {},
   "outputs": [
    {
     "name": "stdout",
     "output_type": "stream",
     "text": [
      "Defaulting to user installation because normal site-packages is not writeable\n",
      "Collecting PyPDF2\n",
      "  Using cached pypdf2-3.0.1-py3-none-any.whl (232 kB)\n",
      "Requirement already satisfied: boto3 in c:\\users\\kjjs1\\appdata\\roaming\\python\\python310\\site-packages (1.33.10)\n",
      "Requirement already satisfied: botocore<1.34.0,>=1.33.10 in c:\\users\\kjjs1\\appdata\\roaming\\python\\python310\\site-packages (from boto3) (1.33.10)\n",
      "Requirement already satisfied: jmespath<2.0.0,>=0.7.1 in c:\\programdata\\anaconda3\\lib\\site-packages (from boto3) (0.10.0)\n",
      "Requirement already satisfied: s3transfer<0.9.0,>=0.8.2 in c:\\users\\kjjs1\\appdata\\roaming\\python\\python310\\site-packages (from boto3) (0.8.2)\n",
      "Requirement already satisfied: python-dateutil<3.0.0,>=2.1 in c:\\programdata\\anaconda3\\lib\\site-packages (from botocore<1.34.0,>=1.33.10->boto3) (2.8.2)\n",
      "Requirement already satisfied: urllib3<2.1,>=1.25.4 in c:\\programdata\\anaconda3\\lib\\site-packages (from botocore<1.34.0,>=1.33.10->boto3) (1.26.14)\n",
      "Requirement already satisfied: six>=1.5 in c:\\programdata\\anaconda3\\lib\\site-packages (from python-dateutil<3.0.0,>=2.1->botocore<1.34.0,>=1.33.10->boto3) (1.16.0)\n",
      "Installing collected packages: PyPDF2\n",
      "Successfully installed PyPDF2-3.0.1\n"
     ]
    }
   ],
   "source": [
    "!pip install PyPDF2 boto3"
   ]
  },
  {
   "cell_type": "code",
   "execution_count": 3,
   "id": "5774f727",
   "metadata": {},
   "outputs": [],
   "source": [
    "from time import sleep,time\n",
    "from selenium import webdriver\n",
    "from selenium.webdriver import *\n",
    "from selenium.webdriver.common.by import By\n",
    "from selenium.webdriver.support.wait import WebDriverWait\n",
    "from selenium.webdriver.support import expected_conditions as EC\n",
    "import getpass\n",
    "\n",
    "import os\n",
    "from glob import glob\n",
    "from PyPDF2 import PdfMerger\n",
    "import json\n",
    "import boto3"
   ]
  },
  {
   "cell_type": "code",
   "execution_count": 31,
   "id": "68982060",
   "metadata": {},
   "outputs": [],
   "source": [
    "def ssm_get_qslogin_info():\n",
    "    secret_name = \"quicksight/pdf/user\"\n",
    "    region_name = \"ap-northeast-2\"\n",
    "\n",
    "    # Create a Secrets Manager client\n",
    "    session = boto3.session.Session()\n",
    "    client = session.client(\n",
    "        service_name='secretsmanager',\n",
    "        region_name=region_name\n",
    "    )\n",
    "\n",
    "    try:\n",
    "        get_secret_value_response = client.get_secret_value(\n",
    "            SecretId=secret_name\n",
    "        )\n",
    "    except ClientError as e:\n",
    "        # For a list of exceptions thrown, see\n",
    "        # https://docs.aws.amazon.com/secretsmanager/latest/apireference/API_GetSecretValue.html\n",
    "        raise e\n",
    "\n",
    "    # Decrypts secret using the associated KMS key.\n",
    "    secret = json.loads(get_secret_value_response['SecretString'])\n",
    "    return secret['quicksight_user'],secret['quicksight_pw']\n",
    "    # Your code goes here."
   ]
  },
  {
   "cell_type": "code",
   "execution_count": 27,
   "id": "dbd0bfe9",
   "metadata": {
    "scrolled": false
   },
   "outputs": [
    {
     "data": {
      "text/plain": [
       "<selenium.webdriver.remote.webelement.WebElement (session=\"9cf68af8ac95a1dd71cedf81d9b014fc\", element=\"B628268948E151C75A694E9A32DCE4AB_element_272\")>"
      ]
     },
     "execution_count": 27,
     "metadata": {},
     "output_type": "execute_result"
    }
   ],
   "source": [
    "## Clean dir\n",
    "def clean_dir(result_dir,glob_str=\"*.pdf\"):\n",
    "    filelist = glob(os.path.join(result_dir, glob_str))\n",
    "    for f in filelist:\n",
    "        os.chmod(f, 0o777)\n",
    "        os.remove(f)\n",
    "\n",
    "## function download\n",
    "# Volkswagenquicksightpdf132#\n",
    "def quicksigt_login(driver,qid,qpwd):\n",
    "    driver.get(\"https://us-east-1.quicksight.aws.amazon.com/sn/dashboards/a7adfe68-ab7e-45f4-a988-94bc41cf9c53\")\n",
    "    WebDriverWait(driver, 30).until(EC.presence_of_element_located((By.ID,'account-name-input')))\n",
    "\n",
    "    driver.find_element(By.ID,'account-name-input').send_keys('volkswagenkorea')\n",
    "    driver.find_element(By.ID,'account-name-submit-button').click()\n",
    "    \n",
    "    WebDriverWait(driver, 30).until(EC.presence_of_element_located((By.ID, \"username-input\")))\n",
    "    driver.find_element(By.ID,'username-input').send_keys(qid)\n",
    "    driver.find_element(By.ID,'username-submit-button').click()\n",
    "\n",
    "    WebDriverWait(driver, 30).until(EC.presence_of_element_located((By.ID, \"awsui-input-0\")))\n",
    "\n",
    "    driver.find_element(By.ID,'awsui-input-0').send_keys(qpwd)\n",
    "    driver.find_element(By.ID,'password-submit-button').click()\n",
    "\n",
    "    WebDriverWait(driver, 30).until(EC.presence_of_element_located((By.XPATH, '//button[@aria-label=\"Export\"]')))\n",
    "    return driver\n",
    "\n",
    "def quicksight_download(driver,total_page,url):\n",
    "    driver.get(url)\n",
    "    WebDriverWait(driver, 30).until(EC.presence_of_element_located((By.XPATH, '//button[@aria-label=\"Export\"]')))\n",
    "    driver.find_element(By.XPATH, '//button[@aria-label=\"Export\"]').click()\n",
    "    driver.find_element(By.XPATH, '//li[@data-automation-id=\"navbar_export_pane_toggle_open\"]').click()\n",
    "    sleep(1)\n",
    "    for i in range(1,total_page+1):\n",
    "        driver.find_element(By.XPATH,f'//*[@id=\"application-content\"]/div/div/div[2]/div[1]/div[2]/div/div[1]/div/div/div/div[{i}]').click()\n",
    "        sleep(1)\n",
    "        driver.find_element(By.XPATH, '//button[@aria-label=\"내보내기\"]').click()\n",
    "        WebDriverWait(driver, 30).until(EC.presence_of_element_located((By.XPATH, '//li[@title=\"PDF 생성\"]')))\n",
    "        driver.find_element(By.XPATH, '//li[@title=\"PDF 생성\"]').click()\n",
    "        sleep(1)\n",
    "    \n",
    "    while True:\n",
    "        ready_elem = len(driver.find_elements(By.CSS_SELECTOR,\"h6\"))\n",
    "        try:\n",
    "            driver.find_element(By.ID,'alertCloseButton').click()\n",
    "            sleep(0.3)\n",
    "        except:\n",
    "               pass\n",
    "        finally:\n",
    "            print(\" \"*50,end='\\r')\n",
    "            print(f\"Wait for Donwload! ({ready_elem}/{total_page}) : {round((ready_elem/total_page)*100,2)}%\",end='\\r')\n",
    "            if ready_elem == total_page: \n",
    "                print(\"\\nDownload Ready!\") \n",
    "                break\n",
    "    \n",
    "    for i in range(1,total_page+1):\n",
    "        driver.find_element(By.XPATH, f'//*[@id=\"vega-right-pane\"]/div/div/div/div[{i}]/div[2]/p[2]/div').click()\n",
    "        sleep(0.2)\n",
    "    \n",
    "    return driver\n",
    "\n",
    "def download_wait(md_file_count):\n",
    "        while True:\n",
    "            clean_dir(result_dir,\"* ([1-9]).pdf\")\n",
    "            download_file_count = len(glob(os.path.join(result_dir, \"*p*.pdf\")))\n",
    "            if download_file_count == md_file_count:\n",
    "                print(\"Download Complete\")\n",
    "                break\n",
    "        return\n",
    "\n",
    "def merge_pdf(tot_page,pdf_file_name,result_dir):\n",
    "    merger = PdfMerger()\n",
    "    for i in range(1,tot_page+1):\n",
    "        merger.append(glob(f'{result_dir}/{i}p*'+'.pdf')[0])\n",
    "\n",
    "    merger.write(f\"{result_dir}/merged/\"+pdf_file_name + \".pdf\")\n",
    "    merger.close()\n",
    "\n",
    "result_dir=r\"C:\\Data_Files\"\n",
    "\n",
    "options = webdriver.ChromeOptions()\n",
    "options.add_argument(\"--start-maximized\")\n",
    "options.add_experimental_option(\"prefs\", {\n",
    "  \"download.default_directory\": result_dir\n",
    "  })\n",
    "\n",
    "clean_dir(result_dir)\n",
    "\n",
    "#dashboard_url = input(\"url : \")\n",
    "# quicksight_id = input(\"ID : \")\n",
    "# pswd = getpass.getpass('Password:')\n",
    "quicksight_id = \"pdf_test\"\n",
    "pswd = \"Pdf_test1\"\n",
    "\n",
    "#login\n",
    "service = webdriver.ChromeService(\"chromedriver.exe\")\n",
    "driver = webdriver.Chrome(service=service,options=options)\n",
    "driver.implicitly_wait(3)\n",
    "driver = quicksigt_login(driver,quicksight_id,pswd)\n",
    "\n",
    "start = time()\n",
    "\n",
    "##Dashboard 1_1 Page Download   \n",
    "\n",
    "d1_url=\"https://us-east-1.quicksight.aws.amazon.com/sn/dashboards/8e2c6dc2-fd18-4ad2-ab10-942149c252ab\"\n",
    "page_d1=18\n",
    "\n",
    "from selenium.common.exceptions import *\n",
    "errors = [NoSuchElementException, ElementNotInteractableException, ElementClickInterceptedException]\n",
    "wait = WebDriverWait(driver, timeout=5, poll_frequency=.2, ignored_exceptions=errors)\n",
    "wait.until(lambda d : d.find_element(By.XPATH,f\"/html/body/div[4]/div[2]/div/div/div/div[2]/div[1]/div[2]/div/div[1]/div/div/div/div[3]\"))\n",
    "\n",
    "#driver = quicksight_download(driver,page_d1,d1_url)\n",
    "# download_wait(page_d1)\n",
    "\n",
    "# ##Dashboard 1_2 Page Download   \n",
    "\n",
    "# d2_url=\"https://us-east-1.quicksight.aws.amazon.com/sn/dashboards/7b03e7cf-3485-4610-ab1f-b4a3a7c6ca1e\"\n",
    "# page_d2= 7\n",
    "# driver = quicksight_download(driver,page_d2,d2_url)\n",
    "# download_wait(page_d1+page_d2)\n",
    "\n",
    "# ##Cover Page Download   \n",
    "\n",
    "# cover_url='https://us-east-1.quicksight.aws.amazon.com/sn/dashboards/09acf2c8-158d-47b2-b63a-8cbfd183ad1e'\n",
    "# page_c= 8\n",
    "# driver = quicksight_download(driver,page_c,cover_url)\n",
    "# download_wait(page_d1+page_d2+page_c)\n",
    "\n",
    "\n",
    "# ## Merge pdf \n",
    "\n",
    "# print(\"Merge pdf..\")\n",
    "\n",
    "# #merge_pdf_name = input(\"pdf name :\")\n",
    "# merge_pdf_name = \"total_pdf_20230407\"\n",
    "# tot_page=page_d1+page_d2+page_c\n",
    "\n",
    "# merge_pdf(tot_page,merge_pdf_name,result_dir)\n",
    "\n",
    "# #driver.close()\n",
    "\n",
    "# end = time()\n",
    "\n",
    "# print(\"Done!\" + f\"{end - start:.5f} sec\")"
   ]
  },
  {
   "cell_type": "code",
   "execution_count": 72,
   "id": "a55aef1b",
   "metadata": {},
   "outputs": [],
   "source": [
    "def click_gen_pdf(driver):\n",
    "    WebDriverWait(driver, 30).until(EC.presence_of_element_located((By.XPATH, '//button[@aria-label=\"내보내기\"]')))\n",
    "    driver.find_element(By.XPATH, '//button[@aria-label=\"내보내기\"]').click()\n",
    "    WebDriverWait(driver, 30).until(EC.presence_of_element_located((By.XPATH, '//li[@title=\"PDF 생성\"]')))\n",
    "    driver.find_element(By.XPATH, '//li[@title=\"PDF 생성\"]').click()\n",
    "\n",
    "    return driver\n",
    "\n",
    "def download_toggle_open(driver):\n",
    "    WebDriverWait(driver, 30).until(EC.presence_of_element_located((By.XPATH, '//button[@aria-label=\"내보내기\"]')))\n",
    "    driver.find_element(By.XPATH, '//button[@aria-label=\"내보내기\"]').click()\n",
    "    driver.find_element(By.XPATH, '//li[@data-automation-id=\"navbar_export_pane_toggle_open\"]').click()\n",
    "\n",
    "    return driver\n",
    "\n",
    "def clean_page(driver):\n",
    "     while driver.find_elements(By.ID,'alertCloseButton') != [] :\n",
    "        driver.find_element(By.ID,'alertCloseButton').click()\n",
    "     return driver\n"
   ]
  },
  {
   "cell_type": "code",
   "execution_count": 66,
   "id": "4193bafb",
   "metadata": {},
   "outputs": [],
   "source": [
    "li=driver.find_elements(By.XPATH,\"//div[contains(@class,'sheet-tab-name')]\")\n",
    "\n",
    "len(li)\n",
    "tttt=[]\n",
    "for we in li:\n",
    "    tttt.append(we.text)"
   ]
  },
  {
   "cell_type": "code",
   "execution_count": 75,
   "id": "89c0a661",
   "metadata": {},
   "outputs": [
    {
     "name": "stdout",
     "output_type": "stream",
     "text": [
      "Click Generate PDF : 4p\n",
      "Click Generate PDF : 5p\n",
      "Click Generate PDF : 7p\n",
      "Click Generate PDF : 8p\n",
      "Click Generate PDF : 9p\n",
      "Click Generate PDF : 10p\n",
      "Click Generate PDF : 11p\n",
      "Click Generate PDF : 12p\n",
      "Click Generate PDF : 14p\n",
      "Click Generate PDF : 15p\n",
      "Click Generate PDF : 16p\n",
      "Click Generate PDF : 17p\n",
      "Click Generate PDF : 18p\n",
      "Click Generate PDF : 19p\n",
      "Click Generate PDF : 21p\n",
      "Click Generate PDF : 22p\n",
      "Click Generate PDF : 23p\n",
      "Click Generate PDF : 27p\n"
     ]
    }
   ],
   "source": [
    "page_list=[]\n",
    "download_toggle_open(driver)\n",
    "for idx in range(1,19):\n",
    "        pass_pdf=False\n",
    "        page_str=driver.find_element(By.XPATH,f'//*[@id=\"application-content\"]/div/div/div[2]/div[1]/div[2]/div/div[1]/div/div/div/div[{idx}]').text\n",
    "        driver.find_element(By.XPATH,f'//*[@id=\"application-content\"]/div/div/div[2]/div[1]/div[2]/div/div[1]/div/div/div/div[{idx}]').click()\n",
    "        page_list.append(page_str)\n",
    "        while pass_pdf == False:\n",
    "                sleep(2)\n",
    "                clean_page(driver)\n",
    "                driver=click_gen_pdf(driver)\n",
    "                #logger.info(f\"Click Generate PDF : {page_str}\")\n",
    "                print(f\"Click Generate PDF : {page_str}\")\n",
    "                check_pdf=driver.find_elements(By.XPATH,f\"//p[contains(@class,'VegaTypography')] [contains(.,'{page_str}')][contains(.,'파일 이름')]\")\n",
    "                for elem in check_pdf:\n",
    "                        if elem.text.split(' ')[2] == page_str:\n",
    "                                pass_pdf=True\n",
    "                "
   ]
  },
  {
   "cell_type": "code",
   "execution_count": 76,
   "id": "66e6e910",
   "metadata": {},
   "outputs": [
    {
     "name": "stdout",
     "output_type": "stream",
     "text": [
      "Click Done!\n"
     ]
    }
   ],
   "source": [
    "start=time()\n",
    "while True:\n",
    "        while driver.find_elements(By.ID,'alertCloseButton') != [] :\n",
    "            driver.find_element(By.ID,'alertCloseButton').click()\n",
    "            \n",
    "        if len(tttt)==len(driver.find_elements(By.XPATH,f\"//div[@data-automation-id='exports_pane_card'][contains(.,'클릭하여 다운로드')]\")) :\n",
    "            print(\"Click Done!\")\n",
    "            break\n",
    "        \n",
    "        elif time()-start > 100 :\n",
    "            print(\"Error\")\n",
    "            break\n",
    "\n",
    "for Webelem in driver.find_elements(By.XPATH,'//*[@data-automation-id=\"exports_pane_card\"]'):\n",
    "    Webelem.click()\n",
    "    sleep(0.2)\n",
    "    "
   ]
  },
  {
   "cell_type": "code",
   "execution_count": 197,
   "id": "2fc9144d",
   "metadata": {},
   "outputs": [
    {
     "data": {
      "text/plain": [
       "18"
      ]
     },
     "execution_count": 197,
     "metadata": {},
     "output_type": "execute_result"
    }
   ],
   "source": [
    "len(tttt)"
   ]
  },
  {
   "cell_type": "code",
   "execution_count": 9,
   "id": "a97c829a",
   "metadata": {},
   "outputs": [],
   "source": [
    "def movePage(driver,url):\n",
    "    driver.get(url)\n",
    "\n",
    "def clickGeneratePDF(driver) -> None:\n",
    "    WebDriverWait(driver, 30).until(EC.presence_of_element_located((By.XPATH, '//button[@aria-label=\"Export\"]')))\n",
    "    driver.find_element(By.XPATH, '//button[@aria-label=\"Export\"]').click()\n",
    "    WebDriverWait(driver, 30).until(EC.presence_of_element_located((By.XPATH, '//li[@title=\"Generate PDF\"]')))\n",
    "    driver.find_element(By.XPATH, '//li[@title=\"Generate PDF\"]').click()\n",
    "\n",
    "def openDownloadToggle(driver):\n",
    "    WebDriverWait(driver, 30).until(EC.presence_of_element_located((By.XPATH, '//button[@aria-label=\"Export\"]')))\n",
    "    driver.find_element(By.XPATH, '//button[@aria-label=\"Export\"]').click()\n",
    "    driver.find_element(By.XPATH, '//li[@data-automation-id=\"navbar_export_pane_toggle_open\"]').click()\n",
    "\n",
    "    return True\n",
    "\n",
    "def clickAlertCloseButton(driver) -> None:\n",
    "    elems=driver.find_elements(By.ID,'alertCloseButton')\n",
    "    for elem in elems:\n",
    "        elem.click()\n",
    "\n",
    "    return True\n",
    "        "
   ]
  },
  {
   "cell_type": "code",
   "execution_count": 12,
   "id": "99d99f89",
   "metadata": {},
   "outputs": [],
   "source": [
    "movePage(url='https://us-east-1.quicksight.aws.amazon.com/sn/dashboards/a7adfe68-ab7e-45f4-a988-94bc41cf9c53',driver=driver)\n",
    "openDownloadToggle(driver)\n",
    "clickGeneratePDF(driver)"
   ]
  },
  {
   "cell_type": "code",
   "execution_count": 7,
   "id": "75bddb16",
   "metadata": {},
   "outputs": [],
   "source": [
    "driver.find_element(By.XPATH,\"/html/body/div[4]/div[2]/div/div/div/div[2]/div[1]/div[2]/div/div[1]/div/div/div/div[1]\").click()"
   ]
  },
  {
   "cell_type": "code",
   "execution_count": 8,
   "id": "29745b01",
   "metadata": {},
   "outputs": [
    {
     "data": {
      "text/plain": [
       "'4p'"
      ]
     },
     "execution_count": 8,
     "metadata": {},
     "output_type": "execute_result"
    }
   ],
   "source": [
    "driver.find_element(By.XPATH,\"/html/body/div[4]/div[2]/div/div/div/div[2]/div[1]/div[2]/div/div[1]/div/div/div/div[1]\").text"
   ]
  },
  {
   "cell_type": "code",
   "execution_count": 16,
   "id": "58736892",
   "metadata": {},
   "outputs": [
    {
     "data": {
      "text/plain": [
       "18"
      ]
     },
     "execution_count": 16,
     "metadata": {},
     "output_type": "execute_result"
    }
   ],
   "source": [
    "driver.find_elements(By.XPATH, \"//div[contains(@class,'sheet-tab-name')]\")\n",
    "len(driver.find_elements(By.XPATH, \"//div[contains(@class,'sheet-tab-name')]\"))"
   ]
  },
  {
   "cell_type": "code",
   "execution_count": 16,
   "id": "7a50ad1d",
   "metadata": {},
   "outputs": [
    {
     "ename": "NoSuchElementException",
     "evalue": "Message: no such element: Unable to locate element: {\"method\":\"css selector\",\"selector\":\"[id=\"account-name-input\"]\"}\n  (Session info: chrome=119.0.6045.106); For documentation on this error, please visit: https://www.selenium.dev/documentation/webdriver/troubleshooting/errors#no-such-element-exception\nStacktrace:\n\tGetHandleVerifier [0x00007FF64AE382B2+55298]\n\t(No symbol) [0x00007FF64ADA5E02]\n\t(No symbol) [0x00007FF64AC605AB]\n\t(No symbol) [0x00007FF64ACA175C]\n\t(No symbol) [0x00007FF64ACA18DC]\n\t(No symbol) [0x00007FF64ACDCBC7]\n\t(No symbol) [0x00007FF64ACC20EF]\n\t(No symbol) [0x00007FF64ACDAAA4]\n\t(No symbol) [0x00007FF64ACC1E83]\n\t(No symbol) [0x00007FF64AC9670A]\n\t(No symbol) [0x00007FF64AC97964]\n\tGetHandleVerifier [0x00007FF64B1B0AAB+3694587]\n\tGetHandleVerifier [0x00007FF64B20728E+4048862]\n\tGetHandleVerifier [0x00007FF64B1FF173+4015811]\n\tGetHandleVerifier [0x00007FF64AED47D6+695590]\n\t(No symbol) [0x00007FF64ADB0CE8]\n\t(No symbol) [0x00007FF64ADACF34]\n\t(No symbol) [0x00007FF64ADAD062]\n\t(No symbol) [0x00007FF64AD9D3A3]\n\tBaseThreadInitThunk [0x00007FFE407A257D+29]\n\tRtlUserThreadStart [0x00007FFE4276AA58+40]\n",
     "output_type": "error",
     "traceback": [
      "\u001b[1;31m---------------------------------------------------------------------------\u001b[0m",
      "\u001b[1;31mNoSuchElementException\u001b[0m                    Traceback (most recent call last)",
      "\u001b[1;32mc:\\Users\\kjjs1\\OneDrive\\MZC\\Project\\QuickSightPDFDownloader\\local\\QuickSight_Down.ipynb Cell 16\u001b[0m line \u001b[0;36m3\n\u001b[0;32m      <a href='vscode-notebook-cell:/c%3A/Users/kjjs1/OneDrive/MZC/Project/QuickSightPDFDownloader/local/QuickSight_Down.ipynb#X21sZmlsZQ%3D%3D?line=0'>1</a>\u001b[0m driver\u001b[39m.\u001b[39mget(\u001b[39m\"\u001b[39m\u001b[39mhttps://us-east-1.quicksight.aws.amazon.com/sn/dashboards/a7adfe68-ab7e-45f4-a988-94bc41cf9c53\u001b[39m\u001b[39m\"\u001b[39m)\n\u001b[0;32m      <a href='vscode-notebook-cell:/c%3A/Users/kjjs1/OneDrive/MZC/Project/QuickSightPDFDownloader/local/QuickSight_Down.ipynb#X21sZmlsZQ%3D%3D?line=1'>2</a>\u001b[0m \u001b[39m#WebDriverWait(driver, 30).until(EC.presence_of_element_located((By.ID,'account-name-input')))\u001b[39;00m\n\u001b[1;32m----> <a href='vscode-notebook-cell:/c%3A/Users/kjjs1/OneDrive/MZC/Project/QuickSightPDFDownloader/local/QuickSight_Down.ipynb#X21sZmlsZQ%3D%3D?line=2'>3</a>\u001b[0m driver\u001b[39m.\u001b[39;49mfind_element(By\u001b[39m.\u001b[39;49mID,\u001b[39m'\u001b[39;49m\u001b[39maccount-name-input\u001b[39;49m\u001b[39m'\u001b[39;49m)\u001b[39m.\u001b[39msend_keys(\u001b[39m'\u001b[39m\u001b[39mvolkswagenkorea\u001b[39m\u001b[39m'\u001b[39m)\u001b[39m.\u001b[39mperform()\n\u001b[0;32m      <a href='vscode-notebook-cell:/c%3A/Users/kjjs1/OneDrive/MZC/Project/QuickSightPDFDownloader/local/QuickSight_Down.ipynb#X21sZmlsZQ%3D%3D?line=3'>4</a>\u001b[0m driver\u001b[39m.\u001b[39mfind_element(By\u001b[39m.\u001b[39mID,\u001b[39m'\u001b[39m\u001b[39maccount-name-submit-button\u001b[39m\u001b[39m'\u001b[39m)\u001b[39m.\u001b[39mclick()\n\u001b[0;32m      <a href='vscode-notebook-cell:/c%3A/Users/kjjs1/OneDrive/MZC/Project/QuickSightPDFDownloader/local/QuickSight_Down.ipynb#X21sZmlsZQ%3D%3D?line=5'>6</a>\u001b[0m sleep(\u001b[39m10\u001b[39m)\n",
      "File \u001b[1;32m~\\AppData\\Roaming\\Python\\Python310\\site-packages\\selenium\\webdriver\\remote\\webdriver.py:738\u001b[0m, in \u001b[0;36mWebDriver.find_element\u001b[1;34m(self, by, value)\u001b[0m\n\u001b[0;32m    735\u001b[0m     by \u001b[39m=\u001b[39m By\u001b[39m.\u001b[39mCSS_SELECTOR\n\u001b[0;32m    736\u001b[0m     value \u001b[39m=\u001b[39m \u001b[39mf\u001b[39m\u001b[39m'\u001b[39m\u001b[39m[name=\u001b[39m\u001b[39m\"\u001b[39m\u001b[39m{\u001b[39;00mvalue\u001b[39m}\u001b[39;00m\u001b[39m\"\u001b[39m\u001b[39m]\u001b[39m\u001b[39m'\u001b[39m\n\u001b[1;32m--> 738\u001b[0m \u001b[39mreturn\u001b[39;00m \u001b[39mself\u001b[39;49m\u001b[39m.\u001b[39;49mexecute(Command\u001b[39m.\u001b[39;49mFIND_ELEMENT, {\u001b[39m\"\u001b[39;49m\u001b[39musing\u001b[39;49m\u001b[39m\"\u001b[39;49m: by, \u001b[39m\"\u001b[39;49m\u001b[39mvalue\u001b[39;49m\u001b[39m\"\u001b[39;49m: value})[\u001b[39m\"\u001b[39m\u001b[39mvalue\u001b[39m\u001b[39m\"\u001b[39m]\n",
      "File \u001b[1;32m~\\AppData\\Roaming\\Python\\Python310\\site-packages\\selenium\\webdriver\\remote\\webdriver.py:344\u001b[0m, in \u001b[0;36mWebDriver.execute\u001b[1;34m(self, driver_command, params)\u001b[0m\n\u001b[0;32m    342\u001b[0m response \u001b[39m=\u001b[39m \u001b[39mself\u001b[39m\u001b[39m.\u001b[39mcommand_executor\u001b[39m.\u001b[39mexecute(driver_command, params)\n\u001b[0;32m    343\u001b[0m \u001b[39mif\u001b[39;00m response:\n\u001b[1;32m--> 344\u001b[0m     \u001b[39mself\u001b[39;49m\u001b[39m.\u001b[39;49merror_handler\u001b[39m.\u001b[39;49mcheck_response(response)\n\u001b[0;32m    345\u001b[0m     response[\u001b[39m\"\u001b[39m\u001b[39mvalue\u001b[39m\u001b[39m\"\u001b[39m] \u001b[39m=\u001b[39m \u001b[39mself\u001b[39m\u001b[39m.\u001b[39m_unwrap_value(response\u001b[39m.\u001b[39mget(\u001b[39m\"\u001b[39m\u001b[39mvalue\u001b[39m\u001b[39m\"\u001b[39m, \u001b[39mNone\u001b[39;00m))\n\u001b[0;32m    346\u001b[0m     \u001b[39mreturn\u001b[39;00m response\n",
      "File \u001b[1;32m~\\AppData\\Roaming\\Python\\Python310\\site-packages\\selenium\\webdriver\\remote\\errorhandler.py:229\u001b[0m, in \u001b[0;36mErrorHandler.check_response\u001b[1;34m(self, response)\u001b[0m\n\u001b[0;32m    227\u001b[0m         alert_text \u001b[39m=\u001b[39m value[\u001b[39m\"\u001b[39m\u001b[39malert\u001b[39m\u001b[39m\"\u001b[39m]\u001b[39m.\u001b[39mget(\u001b[39m\"\u001b[39m\u001b[39mtext\u001b[39m\u001b[39m\"\u001b[39m)\n\u001b[0;32m    228\u001b[0m     \u001b[39mraise\u001b[39;00m exception_class(message, screen, stacktrace, alert_text)  \u001b[39m# type: ignore[call-arg]  # mypy is not smart enough here\u001b[39;00m\n\u001b[1;32m--> 229\u001b[0m \u001b[39mraise\u001b[39;00m exception_class(message, screen, stacktrace)\n",
      "\u001b[1;31mNoSuchElementException\u001b[0m: Message: no such element: Unable to locate element: {\"method\":\"css selector\",\"selector\":\"[id=\"account-name-input\"]\"}\n  (Session info: chrome=119.0.6045.106); For documentation on this error, please visit: https://www.selenium.dev/documentation/webdriver/troubleshooting/errors#no-such-element-exception\nStacktrace:\n\tGetHandleVerifier [0x00007FF64AE382B2+55298]\n\t(No symbol) [0x00007FF64ADA5E02]\n\t(No symbol) [0x00007FF64AC605AB]\n\t(No symbol) [0x00007FF64ACA175C]\n\t(No symbol) [0x00007FF64ACA18DC]\n\t(No symbol) [0x00007FF64ACDCBC7]\n\t(No symbol) [0x00007FF64ACC20EF]\n\t(No symbol) [0x00007FF64ACDAAA4]\n\t(No symbol) [0x00007FF64ACC1E83]\n\t(No symbol) [0x00007FF64AC9670A]\n\t(No symbol) [0x00007FF64AC97964]\n\tGetHandleVerifier [0x00007FF64B1B0AAB+3694587]\n\tGetHandleVerifier [0x00007FF64B20728E+4048862]\n\tGetHandleVerifier [0x00007FF64B1FF173+4015811]\n\tGetHandleVerifier [0x00007FF64AED47D6+695590]\n\t(No symbol) [0x00007FF64ADB0CE8]\n\t(No symbol) [0x00007FF64ADACF34]\n\t(No symbol) [0x00007FF64ADAD062]\n\t(No symbol) [0x00007FF64AD9D3A3]\n\tBaseThreadInitThunk [0x00007FFE407A257D+29]\n\tRtlUserThreadStart [0x00007FFE4276AA58+40]\n"
     ]
    }
   ],
   "source": [
    "driver.get(\"https://us-east-1.quicksight.aws.amazon.com/sn/dashboards/a7adfe68-ab7e-45f4-a988-94bc41cf9c53\")\n",
    "#WebDriverWait(driver, 30).until(EC.presence_of_element_located((By.ID,'account-name-input')))\n",
    "driver.find_element(By.ID,'account-name-input').send_keys('volkswagenkorea').perform()\n",
    "driver.find_element(By.ID,'account-name-submit-button').click()\n",
    "\n",
    "sleep(10)\n",
    "\n",
    "#WebDriverWait(driver, 30).until(EC.presence_of_element_located((By.ID, \"username-input\")))\n",
    "driver.find_element(By.ID,'username-input').send_keys('syoul@mz.co.kr').perform()\n",
    "driver.find_element(By.ID,'username-submit-button').click()\n",
    "\n",
    "sleep(10)\n",
    "#WebDriverWait(driver, 30).until(EC.presence_of_element_located((By.ID, \"awsui-input-0\")))\n",
    "driver.find_element(By.ID,'awsui-input-0').send_keys('Soulmz123!').perform()\n",
    "driver.find_element(By.ID,'password-submit-button').click()\n",
    "\n",
    "sleep(10)\n",
    "#WebDriverWait(driver, 30).until(EC.presence_of_element_located((By.XPATH, '//button[@aria-label=\"Export\"]')))"
   ]
  },
  {
   "cell_type": "code",
   "execution_count": 20,
   "id": "58657f06",
   "metadata": {},
   "outputs": [
    {
     "data": {
      "text/plain": [
       "True"
      ]
     },
     "execution_count": 20,
     "metadata": {},
     "output_type": "execute_result"
    }
   ],
   "source": [
    "from selenium.common.exceptions import *\n",
    "\n",
    "errors = [NoSuchElementException, ElementNotInteractableException]\n",
    "wait = WebDriverWait(driver, timeout=10, poll_frequency=.2, ignored_exceptions=errors)\n",
    "\n",
    "wait.until(lambda d : driver.find_element(By.ID,'account-name-input').send_keys(\"volkswagenkorea\") or True)\n",
    "wait.until(lambda d : driver.find_element(By.ID,'account-name-submit-button').click() or True)\n",
    "\n",
    "wait.until(lambda d : driver.find_element(By.ID,'username-input').send_keys('syoul@mz.co.kr') or True)\n",
    "wait.until(lambda d : driver.find_element(By.ID,'username-submit-button').click() or True)\n",
    "\n",
    "\n",
    "wait.until(lambda d : driver.find_element(By.ID,'awsui-input-0').send_keys('Soulmz123!') or True)\n",
    "wait.until(lambda d : driver.find_element(By.ID,'password-submit-button').click() or True)"
   ]
  },
  {
   "cell_type": "code",
   "execution_count": 12,
   "id": "00ebb861",
   "metadata": {},
   "outputs": [],
   "source": [
    "WebDriverWait(driver, 30).until(EC.presence_of_element_located((By.ID, \"username-input\")))\n",
    "driver.find_element(By.ID,'username-input').send_keys('syoul@mz.co.kr')\n",
    "driver.find_element(By.ID,'username-submit-button').click()"
   ]
  },
  {
   "cell_type": "code",
   "execution_count": 9,
   "id": "36cb794d",
   "metadata": {},
   "outputs": [],
   "source": [
    "WebDriverWait(driver, 30).until(EC.presence_of_element_located((By.ID, \"awsui-input-0\")))\n",
    "driver.find_element(By.ID,'awsui-input-0').send_keys('Soulmz123!')\n",
    "driver.find_element(By.ID,'password-submit-button').click()"
   ]
  },
  {
   "cell_type": "code",
   "execution_count": 34,
   "id": "f88917a5",
   "metadata": {},
   "outputs": [],
   "source": [
    "elems=driver.find_elements(By.ID,'alertCloseButton')\n",
    "for elem in elems:\n",
    "    wait.until(lambda d : elem.click() or True)"
   ]
  },
  {
   "cell_type": "code",
   "execution_count": 35,
   "id": "8977a35f",
   "metadata": {},
   "outputs": [],
   "source": [
    "elems=driver.find_elements(By.XPATH,f\"//div[@data-automation-id='exports_pane_card'][contains(.,'Click to download')]\")"
   ]
  },
  {
   "cell_type": "code",
   "execution_count": 26,
   "id": "14412937",
   "metadata": {},
   "outputs": [
    {
     "data": {
      "text/plain": [
       "<selenium.webdriver.remote.webelement.WebElement (session=\"374d969b2b728f78d9b1dd33d7bfd26d\", element=\"883F86A5DC7502383515989ECF56934D_element_14819\")>"
      ]
     },
     "execution_count": 26,
     "metadata": {},
     "output_type": "execute_result"
    }
   ],
   "source": []
  },
  {
   "cell_type": "code",
   "execution_count": null,
   "id": "79faa9da",
   "metadata": {},
   "outputs": [],
   "source": []
  },
  {
   "cell_type": "code",
   "execution_count": null,
   "id": "89f9e02f",
   "metadata": {},
   "outputs": [],
   "source": []
  }
 ],
 "metadata": {
  "kernelspec": {
   "display_name": "Python 3 (ipykernel)",
   "language": "python",
   "name": "python3"
  },
  "language_info": {
   "codemirror_mode": {
    "name": "ipython",
    "version": 3
   },
   "file_extension": ".py",
   "mimetype": "text/x-python",
   "name": "python",
   "nbconvert_exporter": "python",
   "pygments_lexer": "ipython3",
   "version": "3.10.9"
  }
 },
 "nbformat": 4,
 "nbformat_minor": 5
}
